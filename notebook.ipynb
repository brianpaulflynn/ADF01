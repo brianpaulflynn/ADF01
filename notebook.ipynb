{
 "cells": [
  {
   "cell_type": "code",
   "execution_count": 36,
   "metadata": {},
   "outputs": [
    {
     "ename": "PdfReadError",
     "evalue": "EOF marker not found",
     "output_type": "error",
     "traceback": [
      "\u001b[0;31m---------------------------------------------------------------------------\u001b[0m",
      "\u001b[0;31mPdfReadError\u001b[0m                              Traceback (most recent call last)",
      "Cell \u001b[0;32mIn[36], line 61\u001b[0m\n\u001b[1;32m     59\u001b[0m     text \u001b[39m=\u001b[39m read_pdf_local(file_path)\n\u001b[1;32m     60\u001b[0m \u001b[39melif\u001b[39;00m account_url: \u001b[39m#and credential:\u001b[39;00m\n\u001b[0;32m---> 61\u001b[0m     text \u001b[39m=\u001b[39m read_pdf_azure(container_name, blob_name, account_url, credential)\n\u001b[1;32m     62\u001b[0m \u001b[39melif\u001b[39;00m aws_access_key_id \u001b[39mand\u001b[39;00m aws_secret_access_key:\n\u001b[1;32m     63\u001b[0m     text \u001b[39m=\u001b[39m read_pdf_s3(bucket_name, object_name, aws_access_key_id, aws_secret_access_key)\n",
      "Cell \u001b[0;32mIn[36], line 39\u001b[0m, in \u001b[0;36mread_pdf_azure\u001b[0;34m(container_name, blob_name, account_url, credential)\u001b[0m\n\u001b[1;32m     37\u001b[0m blob_client\u001b[39m.\u001b[39mdownload_blob()\u001b[39m.\u001b[39mdownload_to_stream(stream)\n\u001b[1;32m     38\u001b[0m stream\u001b[39m.\u001b[39mseek(\u001b[39m0\u001b[39m)\n\u001b[0;32m---> 39\u001b[0m pdf \u001b[39m=\u001b[39m PdfReader(stream)\n\u001b[1;32m     40\u001b[0m text \u001b[39m=\u001b[39m \u001b[39m\"\u001b[39m\u001b[39m\"\u001b[39m\n\u001b[1;32m     41\u001b[0m \u001b[39mfor\u001b[39;00m page \u001b[39min\u001b[39;00m pdf\u001b[39m.\u001b[39mpages:\n",
      "File \u001b[0;32m~/.local/lib/python3.8/site-packages/PyPDF2/_reader.py:319\u001b[0m, in \u001b[0;36mPdfReader.__init__\u001b[0;34m(self, stream, strict, password)\u001b[0m\n\u001b[1;32m    317\u001b[0m     \u001b[39mwith\u001b[39;00m \u001b[39mopen\u001b[39m(stream, \u001b[39m\"\u001b[39m\u001b[39mrb\u001b[39m\u001b[39m\"\u001b[39m) \u001b[39mas\u001b[39;00m fh:\n\u001b[1;32m    318\u001b[0m         stream \u001b[39m=\u001b[39m BytesIO(fh\u001b[39m.\u001b[39mread())\n\u001b[0;32m--> 319\u001b[0m \u001b[39mself\u001b[39;49m\u001b[39m.\u001b[39;49mread(stream)\n\u001b[1;32m    320\u001b[0m \u001b[39mself\u001b[39m\u001b[39m.\u001b[39mstream \u001b[39m=\u001b[39m stream\n\u001b[1;32m    322\u001b[0m \u001b[39mself\u001b[39m\u001b[39m.\u001b[39m_override_encryption \u001b[39m=\u001b[39m \u001b[39mFalse\u001b[39;00m\n",
      "File \u001b[0;32m~/.local/lib/python3.8/site-packages/PyPDF2/_reader.py:1415\u001b[0m, in \u001b[0;36mPdfReader.read\u001b[0;34m(self, stream)\u001b[0m\n\u001b[1;32m   1413\u001b[0m \u001b[39mdef\u001b[39;00m \u001b[39mread\u001b[39m(\u001b[39mself\u001b[39m, stream: StreamType) \u001b[39m-\u001b[39m\u001b[39m>\u001b[39m \u001b[39mNone\u001b[39;00m:\n\u001b[1;32m   1414\u001b[0m     \u001b[39mself\u001b[39m\u001b[39m.\u001b[39m_basic_validation(stream)\n\u001b[0;32m-> 1415\u001b[0m     \u001b[39mself\u001b[39;49m\u001b[39m.\u001b[39;49m_find_eof_marker(stream)\n\u001b[1;32m   1416\u001b[0m     startxref \u001b[39m=\u001b[39m \u001b[39mself\u001b[39m\u001b[39m.\u001b[39m_find_startxref_pos(stream)\n\u001b[1;32m   1418\u001b[0m     \u001b[39m# check and eventually correct the startxref only in not strict\u001b[39;00m\n",
      "File \u001b[0;32m~/.local/lib/python3.8/site-packages/PyPDF2/_reader.py:1471\u001b[0m, in \u001b[0;36mPdfReader._find_eof_marker\u001b[0;34m(self, stream)\u001b[0m\n\u001b[1;32m   1469\u001b[0m \u001b[39mwhile\u001b[39;00m line[:\u001b[39m5\u001b[39m] \u001b[39m!=\u001b[39m \u001b[39mb\u001b[39m\u001b[39m\"\u001b[39m\u001b[39m%%\u001b[39;00m\u001b[39mEOF\u001b[39m\u001b[39m\"\u001b[39m:\n\u001b[1;32m   1470\u001b[0m     \u001b[39mif\u001b[39;00m stream\u001b[39m.\u001b[39mtell() \u001b[39m<\u001b[39m last_mb:\n\u001b[0;32m-> 1471\u001b[0m         \u001b[39mraise\u001b[39;00m PdfReadError(\u001b[39m\"\u001b[39m\u001b[39mEOF marker not found\u001b[39m\u001b[39m\"\u001b[39m)\n\u001b[1;32m   1472\u001b[0m     line \u001b[39m=\u001b[39m read_previous_line(stream)\n",
      "\u001b[0;31mPdfReadError\u001b[0m: EOF marker not found"
     ]
    }
   ],
   "source": [
    "import io\n",
    "import os\n",
    "import boto3\n",
    "from azure.storage.blob import BlobServiceClient\n",
    "import PyPDF2\n",
    "import requests\n",
    "from azure.identity import DefaultAzureCredential\n",
    "from azure.storage.blob import BlobServiceClient\n",
    "\n",
    "# Set the file path, Azure Blob Storage information, and AWS S3 information\n",
    "file_path = '' #'file.pdf'\n",
    "\n",
    "container_name = 'content'\n",
    "blob_name = 'file.csv'\n",
    "account_url = 'https://bpf7701sa.blob.core.windows.net/' #'https://myaccount.blob.core.windows.net/'\n",
    "credential = DefaultAzureCredential() #'mycredential'\n",
    "\n",
    "bucket_name = 'content'\n",
    "object_name = 'file.csv'\n",
    "aws_access_key_id = 'myaccesskey'\n",
    "aws_secret_access_key = 'mysecretkey'\n",
    "\n",
    "# Function to read PDF from local file\n",
    "def read_pdf_local(file_path):\n",
    "    with open(file_path, 'rb') as f:\n",
    "        pdf = PdfReader(f)\n",
    "        text = \"\"\n",
    "        for page in pdf.pages:\n",
    "            text += page.extract_text()\n",
    "    return text\n",
    "\n",
    "# Function to read PDF from Azure Blob Storage\n",
    "def read_pdf_azure(container_name, blob_name, account_url, credential):\n",
    "    blob_service_client = BlobServiceClient(account_url=account_url, credential=credential)\n",
    "    blob_client = blob_service_client.get_blob_client(container=container_name, blob=blob_name)\n",
    "    stream = io.BytesIO()\n",
    "    blob_client.download_blob().download_to_stream(stream)\n",
    "    stream.seek(0)\n",
    "    pdf = PdfReader(stream)\n",
    "    text = \"\"\n",
    "    for page in pdf.pages:\n",
    "        text += page.extract_text()\n",
    "    return text\n",
    "\n",
    "# Function to read PDF from AWS S3 Storage\n",
    "def read_pdf_s3(bucket_name, object_name, aws_access_key_id, aws_secret_access_key):\n",
    "    s3 = boto3.client('s3', aws_access_key_id=aws_access_key_id, aws_secret_access_key=aws_secret_access_key)\n",
    "    obj = s3.get_object(Bucket=bucket_name, Key=object_name)\n",
    "    stream = io.BytesIO(obj['Body'].read())\n",
    "    stream.seek(0)\n",
    "    pdf = PdfReader(stream)\n",
    "    text = \"\"\n",
    "    for page in pdf.pages:\n",
    "        text += page.extract_text()\n",
    "    return text\n",
    "\n",
    "# Call the appropriate function based on the source of the PDF\n",
    "if os.path.isfile(file_path):\n",
    "    text = read_pdf_local(file_path)\n",
    "elif account_url: #and credential:\n",
    "    text = read_pdf_azure(container_name, blob_name, account_url, credential)\n",
    "elif aws_access_key_id and aws_secret_access_key:\n",
    "    text = read_pdf_s3(bucket_name, object_name, aws_access_key_id, aws_secret_access_key)\n",
    "\n",
    "# Output the text to another frame\n",
    "print(text)\n"
   ]
  },
  {
   "cell_type": "code",
   "execution_count": null,
   "metadata": {},
   "outputs": [],
   "source": []
  }
 ],
 "metadata": {
  "kernelspec": {
   "display_name": "Python 3 (ipykernel)",
   "language": "python",
   "name": "python3"
  },
  "language_info": {
   "codemirror_mode": {
    "name": "ipython",
    "version": 3
   },
   "file_extension": ".py",
   "mimetype": "text/x-python",
   "name": "python",
   "nbconvert_exporter": "python",
   "pygments_lexer": "ipython3",
   "version": "3.8.10"
  }
 },
 "nbformat": 4,
 "nbformat_minor": 2
}
