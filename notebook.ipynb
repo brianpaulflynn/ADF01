{
 "cells": [
  {
   "cell_type": "code",
   "execution_count": 30,
   "metadata": {},
   "outputs": [
    {
     "ename": "ClientAuthenticationError",
     "evalue": "Server failed to authenticate the request. Make sure the value of Authorization header is formed correctly including the signature.\nRequestId:f5dbbe4e-201e-006b-6378-628337000000\nTime:2023-03-29T19:57:23.8115605Z\nErrorCode:AuthenticationFailed\nauthenticationerrordetail:The MAC signature found in the HTTP request 'Sq/+ARef2YBlBB5giGulv4ZpaW1yddMy7NZMZjXYE1c=' is not the same as any computed signature. Server used following string to sign: 'GET\n\n\n\n\n\n\n\n\n\n\n\nx-ms-client-request-id:ef713554-ce6b-11ed-b608-00155d5ec038\nx-ms-date:Wed, 29 Mar 2023 19:57:29 GMT\nx-ms-range:bytes=0-33554431\nx-ms-version:2021-08-06\n/bpf7701sa/content/file.csv'.\nContent: <?xml version=\"1.0\" encoding=\"utf-8\"?><Error><Code>AuthenticationFailed</Code><Message>Server failed to authenticate the request. Make sure the value of Authorization header is formed correctly including the signature.\nRequestId:f5dbbe4e-201e-006b-6378-628337000000\nTime:2023-03-29T19:57:23.8115605Z</Message><AuthenticationErrorDetail>The MAC signature found in the HTTP request 'Sq/+ARef2YBlBB5giGulv4ZpaW1yddMy7NZMZjXYE1c=' is not the same as any computed signature. Server used following string to sign: 'GET\n\n\n\n\n\n\n\n\n\n\n\nx-ms-client-request-id:ef713554-ce6b-11ed-b608-00155d5ec038\nx-ms-date:Wed, 29 Mar 2023 19:57:29 GMT\nx-ms-range:bytes=0-33554431\nx-ms-version:2021-08-06\n/bpf7701sa/content/file.csv'.</AuthenticationErrorDetail></Error>",
     "output_type": "error",
     "traceback": [
      "\u001b[0;31m---------------------------------------------------------------------------\u001b[0m",
      "\u001b[0;31mClientAuthenticationError\u001b[0m                 Traceback (most recent call last)",
      "Cell \u001b[0;32mIn[30], line 59\u001b[0m\n\u001b[1;32m     57\u001b[0m     text \u001b[39m=\u001b[39m read_pdf_local(file_path)\n\u001b[1;32m     58\u001b[0m \u001b[39melif\u001b[39;00m account_url: \u001b[39m#and credential:\u001b[39;00m\n\u001b[0;32m---> 59\u001b[0m     text \u001b[39m=\u001b[39m read_pdf_azure(container_name, blob_name, account_url, credential)\n\u001b[1;32m     60\u001b[0m \u001b[39melif\u001b[39;00m aws_access_key_id \u001b[39mand\u001b[39;00m aws_secret_access_key:\n\u001b[1;32m     61\u001b[0m     text \u001b[39m=\u001b[39m read_pdf_s3(bucket_name, object_name, aws_access_key_id, aws_secret_access_key)\n",
      "Cell \u001b[0;32mIn[30], line 35\u001b[0m, in \u001b[0;36mread_pdf_azure\u001b[0;34m(container_name, blob_name, account_url, credential)\u001b[0m\n\u001b[1;32m     33\u001b[0m blob_client \u001b[39m=\u001b[39m blob_service_client\u001b[39m.\u001b[39mget_blob_client(container\u001b[39m=\u001b[39mcontainer_name, blob\u001b[39m=\u001b[39mblob_name)\n\u001b[1;32m     34\u001b[0m stream \u001b[39m=\u001b[39m io\u001b[39m.\u001b[39mBytesIO()\n\u001b[0;32m---> 35\u001b[0m blob_client\u001b[39m.\u001b[39;49mdownload_blob()\u001b[39m.\u001b[39mdownload_to_stream(stream)\n\u001b[1;32m     36\u001b[0m stream\u001b[39m.\u001b[39mseek(\u001b[39m0\u001b[39m)\n\u001b[1;32m     37\u001b[0m pdf \u001b[39m=\u001b[39m PdfReader(stream)\n",
      "File \u001b[0;32m~/.local/lib/python3.8/site-packages/azure/core/tracing/decorator.py:78\u001b[0m, in \u001b[0;36mdistributed_trace.<locals>.decorator.<locals>.wrapper_use_tracer\u001b[0;34m(*args, **kwargs)\u001b[0m\n\u001b[1;32m     76\u001b[0m span_impl_type \u001b[39m=\u001b[39m settings\u001b[39m.\u001b[39mtracing_implementation()\n\u001b[1;32m     77\u001b[0m \u001b[39mif\u001b[39;00m span_impl_type \u001b[39mis\u001b[39;00m \u001b[39mNone\u001b[39;00m:\n\u001b[0;32m---> 78\u001b[0m     \u001b[39mreturn\u001b[39;00m func(\u001b[39m*\u001b[39;49margs, \u001b[39m*\u001b[39;49m\u001b[39m*\u001b[39;49mkwargs)\n\u001b[1;32m     80\u001b[0m \u001b[39m# Merge span is parameter is set, but only if no explicit parent are passed\u001b[39;00m\n\u001b[1;32m     81\u001b[0m \u001b[39mif\u001b[39;00m merge_span \u001b[39mand\u001b[39;00m \u001b[39mnot\u001b[39;00m passed_in_parent:\n",
      "File \u001b[0;32m~/.local/lib/python3.8/site-packages/azure/storage/blob/_blob_client.py:905\u001b[0m, in \u001b[0;36mBlobClient.download_blob\u001b[0;34m(self, offset, length, encoding, **kwargs)\u001b[0m\n\u001b[1;32m    816\u001b[0m \u001b[39m\u001b[39m\u001b[39m\"\"\"Downloads a blob to the StorageStreamDownloader. The readall() method must\u001b[39;00m\n\u001b[1;32m    817\u001b[0m \u001b[39mbe used to read all the content or readinto() must be used to download the blob into\u001b[39;00m\n\u001b[1;32m    818\u001b[0m \u001b[39ma stream. Using chunks() returns an iterator which allows the user to iterate over the content in chunks.\u001b[39;00m\n\u001b[0;32m   (...)\u001b[0m\n\u001b[1;32m    898\u001b[0m \u001b[39m        :caption: Download a blob.\u001b[39;00m\n\u001b[1;32m    899\u001b[0m \u001b[39m\"\"\"\u001b[39;00m\n\u001b[1;32m    900\u001b[0m options \u001b[39m=\u001b[39m \u001b[39mself\u001b[39m\u001b[39m.\u001b[39m_download_blob_options(\n\u001b[1;32m    901\u001b[0m     offset\u001b[39m=\u001b[39moffset,\n\u001b[1;32m    902\u001b[0m     length\u001b[39m=\u001b[39mlength,\n\u001b[1;32m    903\u001b[0m     encoding\u001b[39m=\u001b[39mencoding,\n\u001b[1;32m    904\u001b[0m     \u001b[39m*\u001b[39m\u001b[39m*\u001b[39mkwargs)\n\u001b[0;32m--> 905\u001b[0m \u001b[39mreturn\u001b[39;00m StorageStreamDownloader(\u001b[39m*\u001b[39;49m\u001b[39m*\u001b[39;49moptions)\n",
      "File \u001b[0;32m~/.local/lib/python3.8/site-packages/azure/storage/blob/_download.py:366\u001b[0m, in \u001b[0;36mStorageStreamDownloader.__init__\u001b[0;34m(self, clients, config, start_range, end_range, validate_content, encryption_options, max_concurrency, name, container, encoding, download_cls, **kwargs)\u001b[0m\n\u001b[1;32m    356\u001b[0m     initial_request_end \u001b[39m=\u001b[39m initial_request_start \u001b[39m+\u001b[39m \u001b[39mself\u001b[39m\u001b[39m.\u001b[39m_first_get_size \u001b[39m-\u001b[39m \u001b[39m1\u001b[39m\n\u001b[1;32m    358\u001b[0m \u001b[39mself\u001b[39m\u001b[39m.\u001b[39m_initial_range, \u001b[39mself\u001b[39m\u001b[39m.\u001b[39m_initial_offset \u001b[39m=\u001b[39m process_range_and_offset(\n\u001b[1;32m    359\u001b[0m     initial_request_start,\n\u001b[1;32m    360\u001b[0m     initial_request_end,\n\u001b[0;32m   (...)\u001b[0m\n\u001b[1;32m    363\u001b[0m     \u001b[39mself\u001b[39m\u001b[39m.\u001b[39m_encryption_data\n\u001b[1;32m    364\u001b[0m )\n\u001b[0;32m--> 366\u001b[0m \u001b[39mself\u001b[39m\u001b[39m.\u001b[39m_response \u001b[39m=\u001b[39m \u001b[39mself\u001b[39;49m\u001b[39m.\u001b[39;49m_initial_request()\n\u001b[1;32m    367\u001b[0m \u001b[39mself\u001b[39m\u001b[39m.\u001b[39mproperties \u001b[39m=\u001b[39m \u001b[39mself\u001b[39m\u001b[39m.\u001b[39m_response\u001b[39m.\u001b[39mproperties\n\u001b[1;32m    368\u001b[0m \u001b[39mself\u001b[39m\u001b[39m.\u001b[39mproperties\u001b[39m.\u001b[39mname \u001b[39m=\u001b[39m \u001b[39mself\u001b[39m\u001b[39m.\u001b[39mname\n",
      "File \u001b[0;32m~/.local/lib/python3.8/site-packages/azure/storage/blob/_download.py:466\u001b[0m, in \u001b[0;36mStorageStreamDownloader._initial_request\u001b[0;34m(self)\u001b[0m\n\u001b[1;32m    464\u001b[0m         \u001b[39mself\u001b[39m\u001b[39m.\u001b[39m_file_size \u001b[39m=\u001b[39m \u001b[39m0\u001b[39m\n\u001b[1;32m    465\u001b[0m     \u001b[39melse\u001b[39;00m:\n\u001b[0;32m--> 466\u001b[0m         process_storage_error(error)\n\u001b[1;32m    468\u001b[0m \u001b[39mtry\u001b[39;00m:\n\u001b[1;32m    469\u001b[0m     \u001b[39mif\u001b[39;00m \u001b[39mself\u001b[39m\u001b[39m.\u001b[39msize \u001b[39m==\u001b[39m \u001b[39m0\u001b[39m:\n",
      "File \u001b[0;32m~/.local/lib/python3.8/site-packages/azure/storage/blob/_shared/response_handlers.py:185\u001b[0m, in \u001b[0;36mprocess_storage_error\u001b[0;34m(storage_error)\u001b[0m\n\u001b[1;32m    182\u001b[0m error\u001b[39m.\u001b[39margs \u001b[39m=\u001b[39m (error\u001b[39m.\u001b[39mmessage,)\n\u001b[1;32m    183\u001b[0m \u001b[39mtry\u001b[39;00m:\n\u001b[1;32m    184\u001b[0m     \u001b[39m# `from None` prevents us from double printing the exception (suppresses generated layer error context)\u001b[39;00m\n\u001b[0;32m--> 185\u001b[0m     exec(\u001b[39m\"\u001b[39;49m\u001b[39mraise error from None\u001b[39;49m\u001b[39m\"\u001b[39;49m)   \u001b[39m# pylint: disable=exec-used # nosec\u001b[39;00m\n\u001b[1;32m    186\u001b[0m \u001b[39mexcept\u001b[39;00m \u001b[39mSyntaxError\u001b[39;00m:\n\u001b[1;32m    187\u001b[0m     \u001b[39mraise\u001b[39;00m error\n",
      "File \u001b[0;32m<string>:1\u001b[0m\n",
      "\u001b[0;31mClientAuthenticationError\u001b[0m: Server failed to authenticate the request. Make sure the value of Authorization header is formed correctly including the signature.\nRequestId:f5dbbe4e-201e-006b-6378-628337000000\nTime:2023-03-29T19:57:23.8115605Z\nErrorCode:AuthenticationFailed\nauthenticationerrordetail:The MAC signature found in the HTTP request 'Sq/+ARef2YBlBB5giGulv4ZpaW1yddMy7NZMZjXYE1c=' is not the same as any computed signature. Server used following string to sign: 'GET\n\n\n\n\n\n\n\n\n\n\n\nx-ms-client-request-id:ef713554-ce6b-11ed-b608-00155d5ec038\nx-ms-date:Wed, 29 Mar 2023 19:57:29 GMT\nx-ms-range:bytes=0-33554431\nx-ms-version:2021-08-06\n/bpf7701sa/content/file.csv'.\nContent: <?xml version=\"1.0\" encoding=\"utf-8\"?><Error><Code>AuthenticationFailed</Code><Message>Server failed to authenticate the request. Make sure the value of Authorization header is formed correctly including the signature.\nRequestId:f5dbbe4e-201e-006b-6378-628337000000\nTime:2023-03-29T19:57:23.8115605Z</Message><AuthenticationErrorDetail>The MAC signature found in the HTTP request 'Sq/+ARef2YBlBB5giGulv4ZpaW1yddMy7NZMZjXYE1c=' is not the same as any computed signature. Server used following string to sign: 'GET\n\n\n\n\n\n\n\n\n\n\n\nx-ms-client-request-id:ef713554-ce6b-11ed-b608-00155d5ec038\nx-ms-date:Wed, 29 Mar 2023 19:57:29 GMT\nx-ms-range:bytes=0-33554431\nx-ms-version:2021-08-06\n/bpf7701sa/content/file.csv'.</AuthenticationErrorDetail></Error>"
     ]
    }
   ],
   "source": [
    "import io\n",
    "import os\n",
    "import boto3\n",
    "from azure.storage.blob import BlobServiceClient\n",
    "import PyPDF2\n",
    "import requests\n",
    "\n",
    "# Set the file path, Azure Blob Storage information, and AWS S3 information\n",
    "file_path = 'file.pdf'\n",
    "\n",
    "container_name = 'content'\n",
    "blob_name = 'file.csv'\n",
    "account_url = 'https://bpf7701sa.blob.core.windows.net/' #'https://myaccount.blob.core.windows.net/'\n",
    "credential = 'mycredential'\n",
    "\n",
    "bucket_name = 'mybucket'\n",
    "object_name = 'example.pdf'\n",
    "aws_access_key_id = 'myaccesskey'\n",
    "aws_secret_access_key = 'mysecretkey'\n",
    "\n",
    "# Function to read PDF from local file\n",
    "def read_pdf_local(file_path):\n",
    "    with open(file_path, 'rb') as f:\n",
    "        pdf = PdfReader(f)\n",
    "        text = \"\"\n",
    "        for page in pdf.pages:\n",
    "            text += page.extract_text()\n",
    "    return text\n",
    "\n",
    "# Function to read PDF from Azure Blob Storage\n",
    "def read_pdf_azure(container_name, blob_name, account_url, credential):\n",
    "    blob_service_client = BlobServiceClient(account_url=account_url, credential=credential)\n",
    "    blob_client = blob_service_client.get_blob_client(container=container_name, blob=blob_name)\n",
    "    stream = io.BytesIO()\n",
    "    blob_client.download_blob().download_to_stream(stream)\n",
    "    stream.seek(0)\n",
    "    pdf = PdfReader(stream)\n",
    "    text = \"\"\n",
    "    for page in pdf.pages:\n",
    "        text += page.extract_text()\n",
    "    return text\n",
    "\n",
    "# Function to read PDF from AWS S3 Storage\n",
    "def read_pdf_s3(bucket_name, object_name, aws_access_key_id, aws_secret_access_key):\n",
    "    s3 = boto3.client('s3', aws_access_key_id=aws_access_key_id, aws_secret_access_key=aws_secret_access_key)\n",
    "    obj = s3.get_object(Bucket=bucket_name, Key=object_name)\n",
    "    stream = io.BytesIO(obj['Body'].read())\n",
    "    stream.seek(0)\n",
    "    pdf = PdfReader(stream)\n",
    "    text = \"\"\n",
    "    for page in pdf.pages:\n",
    "        text += page.extract_text()\n",
    "    return text\n",
    "\n",
    "# Call the appropriate function based on the source of the PDF\n",
    "if os.path.isfile(file_path):\n",
    "    text = read_pdf_local(file_path)\n",
    "elif account_url: #and credential:\n",
    "    text = read_pdf_azure(container_name, blob_name, account_url, credential)\n",
    "elif aws_access_key_id and aws_secret_access_key:\n",
    "    text = read_pdf_s3(bucket_name, object_name, aws_access_key_id, aws_secret_access_key)\n",
    "\n",
    "# Output the text to another frame\n",
    "print(text)\n"
   ]
  },
  {
   "cell_type": "code",
   "execution_count": null,
   "metadata": {},
   "outputs": [],
   "source": []
  }
 ],
 "metadata": {
  "kernelspec": {
   "display_name": "Python 3 (ipykernel)",
   "language": "python",
   "name": "python3"
  },
  "language_info": {
   "codemirror_mode": {
    "name": "ipython",
    "version": 3
   },
   "file_extension": ".py",
   "mimetype": "text/x-python",
   "name": "python",
   "nbconvert_exporter": "python",
   "pygments_lexer": "ipython3",
   "version": "3.8.10"
  }
 },
 "nbformat": 4,
 "nbformat_minor": 2
}
