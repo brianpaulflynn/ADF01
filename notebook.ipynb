{
 "cells": [
  {
   "cell_type": "code",
   "execution_count": null,
   "metadata": {},
   "outputs": [
    {
     "ename": "ModuleNotFoundError",
     "evalue": "No module named 'boto3'",
     "output_type": "error",
     "traceback": [
      "\u001b[0;31m---------------------------------------------------------------------------\u001b[0m",
      "\u001b[0;31mModuleNotFoundError\u001b[0m                       Traceback (most recent call last)",
      "Cell \u001b[0;32mIn[4], line 1\u001b[0m\n\u001b[0;32m----> 1\u001b[0m \u001b[39mimport\u001b[39;00m \u001b[39mboto3\u001b[39;00m\n\u001b[1;32m      2\u001b[0m \u001b[39mfrom\u001b[39;00m \u001b[39mazure\u001b[39;00m\u001b[39m.\u001b[39;00m\u001b[39mstorage\u001b[39;00m\u001b[39m.\u001b[39;00m\u001b[39mblob\u001b[39;00m \u001b[39mimport\u001b[39;00m BlobServiceClient\n\u001b[1;32m      3\u001b[0m \u001b[39mfrom\u001b[39;00m \u001b[39mgoogle\u001b[39;00m\u001b[39m.\u001b[39;00m\u001b[39mcloud\u001b[39;00m \u001b[39mimport\u001b[39;00m storage\n",
      "\u001b[0;31mModuleNotFoundError\u001b[0m: No module named 'boto3'"
     ]
    }
   ],
   "source": [
    "# add aws later i m p o r t boto3\n",
    "from azure.storage.blob import BlobServiceClient\n",
    "from google.cloud import storage\n",
    "from abc import ABC, abstractmethod\n",
    "\n",
    "class CloudStorage(ABC):\n",
    "    @abstractmethod\n",
    "    def get_file(self, bucket_name: str, blob_name: str) -> bytes:\n",
    "        pass\n",
    "\n",
    "# class AwsStorage(CloudStorage):\n",
    "#     def __init__(self, access_key: str, secret_key: str):\n",
    "#         self.client = boto3.client('s3', aws_access_key_id=access_key, aws_secret_access_key=secret_key)\n",
    "\n",
    "#     def get_file(self, bucket_name: str, blob_name: str) -> bytes:\n",
    "#         response = self.client.get_object(Bucket=bucket_name, Key=blob_name)\n",
    "#         return response['Body'].read()\n",
    "\n",
    "class AzureStorage(CloudStorage):\n",
    "    def __init__(self, connection_string: str):\n",
    "        self.client = BlobServiceClient.from_connection_string(connection_string)\n",
    "\n",
    "    def get_file(self, bucket_name: str, blob_name: str) -> bytes:\n",
    "        container_client = self.client.get_container_client(bucket_name)\n",
    "        blob_client = container_client.get_blob_client(blob_name)\n",
    "        return blob_client.download_blob().readall()\n",
    "\n",
    "class GcpStorage(CloudStorage):\n",
    "    def __init__(self, credentials_file: str):\n",
    "        self.client = storage.Client.from_service_account_json(credentials_file)\n",
    "\n",
    "    def get_file(self, bucket_name: str, blob_name: str) -> bytes:\n",
    "        bucket = self.client.bucket(bucket_name)\n",
    "        blob = bucket.blob(blob_name)\n",
    "        return blob.download_as_bytes()\n",
    "\n",
    "class StorageFactory:\n",
    "    @staticmethod\n",
    "    def get_storage(storage_type: str, **kwargs) -> CloudStorage:\n",
    "        # if storage_type == 'aws':\n",
    "        #     return AwsStorage(**kwargs)\n",
    "        elif storage_type == 'azure':\n",
    "            return AzureStorage(**kwargs)\n",
    "        elif storage_type == 'gcp':\n",
    "            return GcpStorage(**kwargs)\n",
    "        else:\n",
    "            raise ValueError(f'Invalid storage type: {storage_type}')\n",
    "\n",
    "storage_type = 'azure' # or 'aws'  or 'gcp'\n",
    "bucket_name = 'my-bucket'\n",
    "blob_name = 'file.csv'\n",
    "\n",
    "# Define the storage factory and create an instance of the appropriate storage implementation\n",
    "factory = StorageFactory()\n",
    "storage = factory.get_storage(storage_type, **storage_credentials)\n"
   ]
  }
 ],
 "metadata": {
  "kernelspec": {
   "display_name": "Python 3",
   "language": "python",
   "name": "python3"
  },
  "language_info": {
   "codemirror_mode": {
    "name": "ipython",
    "version": 3
   },
   "file_extension": ".py",
   "mimetype": "text/x-python",
   "name": "python",
   "nbconvert_exporter": "python",
   "pygments_lexer": "ipython3",
   "version": "3.10.6"
  },
  "orig_nbformat": 4
 },
 "nbformat": 4,
 "nbformat_minor": 2
}
