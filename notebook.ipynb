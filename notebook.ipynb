{
 "cells": [
  {
   "cell_type": "code",
   "execution_count": 29,
   "metadata": {},
   "outputs": [
    {
     "name": "stdout",
     "output_type": "stream",
     "text": [
      "<Response [200]>\n"
     ]
    }
   ],
   "source": [
    "import io\n",
    "import os\n",
    "import boto3\n",
    "from azure.storage.blob import BlobServiceClient\n",
    "import PyPDF2\n",
    "import requests\n",
    "\n",
    "# Set the file path, Azure Blob Storage information, and AWS S3 information\n",
    "file_path = '' #'file.pdf'\n",
    "\n",
    "container_name = 'content'\n",
    "blob_name = 'file.csv'\n",
    "account_url = 'https://bpf7701sa.blob.core.windows.net/' #'https://myaccount.blob.core.windows.net/'\n",
    "credential = 'mycredential'\n",
    "\n",
    "bucket_name = 'mybucket'\n",
    "object_name = 'example.pdf'\n",
    "aws_access_key_id = 'myaccesskey'\n",
    "aws_secret_access_key = 'mysecretkey'\n",
    "\n",
    "# Function to read PDF from local file\n",
    "def read_pdf_local(file_path):\n",
    "    with open(file_path, 'rb') as f:\n",
    "        pdf = PdfReader(f)\n",
    "        text = \"\"\n",
    "        for page in pdf.pages:\n",
    "            text += page.extract_text()\n",
    "    return text\n",
    "\n",
    "# Function to read PDF from Azure Blob Storage\n",
    "def read_pdf_azure(container_name, blob_name, account_url, credential):\n",
    "    blob_service_client = BlobServiceClient(account_url=account_url, credential=credential)\n",
    "    blob_client = blob_service_client.get_blob_client(container=container_name, blob=blob_name)\n",
    "    stream = io.BytesIO()\n",
    "    blob_client.download_blob().download_to_stream(stream)\n",
    "    stream.seek(0)\n",
    "    pdf = PdfReader(stream)\n",
    "    text = \"\"\n",
    "    for page in pdf.pages:\n",
    "        text += page.extract_text()\n",
    "    return text\n",
    "\n",
    "# Function to read PDF from AWS S3 Storage\n",
    "def read_pdf_s3(bucket_name, object_name, aws_access_key_id, aws_secret_access_key):\n",
    "    s3 = boto3.client('s3', aws_access_key_id=aws_access_key_id, aws_secret_access_key=aws_secret_access_key)\n",
    "    obj = s3.get_object(Bucket=bucket_name, Key=object_name)\n",
    "    stream = io.BytesIO(obj['Body'].read())\n",
    "    stream.seek(0)\n",
    "    pdf = PdfReader(stream)\n",
    "    text = \"\"\n",
    "    for page in pdf.pages:\n",
    "        text += page.extract_text()\n",
    "    return text\n",
    "\n",
    "# Call the appropriate function based on the source of the PDF\n",
    "if os.path.isfile(file_path):\n",
    "    text = read_pdf_local(file_path)\n",
    "elif account_url: #and credential:\n",
    "    text = read_pdf_azure(container_name, blob_name, account_url, credential)\n",
    "elif aws_access_key_id and aws_secret_access_key:\n",
    "    text = read_pdf_s3(bucket_name, object_name, aws_access_key_id, aws_secret_access_key)\n",
    "\n",
    "# Output the text to another frame\n",
    "print(text)\n"
   ]
  },
  {
   "cell_type": "code",
   "execution_count": null,
   "metadata": {},
   "outputs": [],
   "source": []
  }
 ],
 "metadata": {
  "kernelspec": {
   "display_name": "Python 3 (ipykernel)",
   "language": "python",
   "name": "python3"
  },
  "language_info": {
   "codemirror_mode": {
    "name": "ipython",
    "version": 3
   },
   "file_extension": ".py",
   "mimetype": "text/x-python",
   "name": "python",
   "nbconvert_exporter": "python",
   "pygments_lexer": "ipython3",
   "version": "3.8.10"
  }
 },
 "nbformat": 4,
 "nbformat_minor": 2
}
